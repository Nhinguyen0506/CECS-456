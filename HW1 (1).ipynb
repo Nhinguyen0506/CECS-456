{
  "nbformat": 4,
  "nbformat_minor": 0,
  "metadata": {
    "colab": {
      "provenance": []
    },
    "kernelspec": {
      "name": "python3",
      "display_name": "Python 3"
    },
    "language_info": {
      "name": "python"
    }
  },
  "cells": [
    {
      "cell_type": "markdown",
      "metadata": {
        "id": "TAaYDM4Ns87N"
      },
      "source": [
        "***This HW will implement several different ways of training linear regression model ***\n",
        "\n",
        "(total: 10 points)"
      ]
    },
    {
      "cell_type": "markdown",
      "metadata": {
        "id": "oZSvjfj9-BGU"
      },
      "source": [
        "\n",
        "\n",
        "1.   submit ipynb in the Dropbox folder via BeachBoard (Not email)\n",
        "2.   follow the instructions and fill the blanks in this Jupyter notebook\n",
        "\n",
        "\n"
      ]
    },
    {
      "cell_type": "markdown",
      "metadata": {
        "id": "TeMhky9xwsD1"
      },
      "source": [
        "**important:** In order to open this Python files with Google Colaboratory, you need to have a Gmail account and sign in to that account. This will automatically allow you to open the Python files with Google Colaboratory. Then once you open the file, it will be in read-only mode, so in order to code inside you just have to go to File, and then click \"Save a copy in Drive\". This will create a copy of this file on your drive, inside which you will be able to code in Python."
      ]
    },
    {
      "cell_type": "markdown",
      "metadata": {
        "id": "xU2mtNl6kl-G"
      },
      "source": [
        "# Setup (*Do Not change*)"
      ]
    },
    {
      "cell_type": "code",
      "metadata": {
        "id": "boBLiqa6csz-"
      },
      "source": [
        "import numpy as np\n",
        "import matplotlib.pyplot as plt\n",
        "np.random.seed(42) #to make this notebook's output stable across runs"
      ],
      "execution_count": 44,
      "outputs": []
    },
    {
      "cell_type": "markdown",
      "metadata": {
        "id": "dvHHuyoIlVTG"
      },
      "source": [
        "#prepare the dataset (*Do Not change*)"
      ]
    },
    {
      "cell_type": "code",
      "metadata": {
        "id": "Hjc3Kn2_cxXW"
      },
      "source": [
        "X = 2 * np.random.rand(100,1)\n",
        "#print(x)\n",
        "y = 4 + 3 * X + np.random.randn(100, 1)"
      ],
      "execution_count": 45,
      "outputs": []
    },
    {
      "cell_type": "code",
      "metadata": {
        "colab": {
          "base_uri": "https://localhost:8080/",
          "height": 459
        },
        "id": "BzQR1oW1liJo",
        "outputId": "a7a46adf-b963-457b-e3bd-95016827e0f7"
      },
      "source": [
        "#visualize the dataset\n",
        "plt.plot(X, y, \"b.\")\n",
        "plt.xlabel(\"$x_1$\", fontsize=18)\n",
        "plt.ylabel(\"$y$\", rotation=0, fontsize=18)\n",
        "plt.axis([0, 2, 0, 15])\n",
        "plt.show()"
      ],
      "execution_count": 46,
      "outputs": [
        {
          "output_type": "display_data",
          "data": {
            "text/plain": [
              "<Figure size 640x480 with 1 Axes>"
            ],
            "image/png": "[encoded data removed]"
          },
          "metadata": {}
        }
      ]
    },
    {
      "cell_type": "markdown",
      "metadata": {
        "id": "V10VsJazlWsr"
      },
      "source": [
        "#**1st way**: Linear regression using sklearn library (*Do Not change*)"
      ]
    },
    {
      "cell_type": "code",
      "metadata": {
        "colab": {
          "base_uri": "https://localhost:8080/"
        },
        "id": "YB0HqNYPk-Uo",
        "outputId": "68c463ad-ca9b-4593-9a3c-a992b5da3960"
      },
      "source": [
        "from sklearn.linear_model import LinearRegression\n",
        "lin_reg = LinearRegression()\n",
        "lin_reg.fit(X, y)\n",
        "lin_reg.intercept_, lin_reg.coef_"
      ],
      "execution_count": null,
      "outputs": [
        {
          "output_type": "execute_result",
          "data": {
            "text/plain": [
              "(array([4.21509616]), array([[2.77011339]]))"
            ]
          },
          "metadata": {},
          "execution_count": 17
        }
      ]
    },
    {
      "cell_type": "code",
      "metadata": {
        "colab": {
          "base_uri": "https://localhost:8080/"
        },
        "id": "H1vzi-6AmM5M",
        "outputId": "e0d6ee05-938f-4205-ae31-0f73728d9281"
      },
      "source": [
        "#make prediction on X_new\n",
        "X_new = np.array([[0], [2]])\n",
        "lin_reg.predict(X_new)"
      ],
      "execution_count": null,
      "outputs": [
        {
          "output_type": "execute_result",
          "data": {
            "text/plain": [
              "array([[4.21509616],\n",
              "       [9.75532293]])"
            ]
          },
          "metadata": {},
          "execution_count": 18
        }
      ]
    },
    {
      "cell_type": "markdown",
      "metadata": {
        "id": "ijFMckOmmolR"
      },
      "source": [
        "#**2nd way**: Linear regression using normal equation (*Your turn!!!*)"
      ]
    },
    {
      "cell_type": "markdown",
      "metadata": {
        "id": "EBxBto2XogNL"
      },
      "source": [
        "# 1. add x0 = 1 to each instance (1 point)"
      ]
    },
    {
      "cell_type": "code",
      "metadata": {
        "id": "oI2UZYgfool7"
      },
      "source": [
        "X = np.hstack([np.ones((X.shape[0], 1)), X])"
      ],
      "execution_count": 11,
      "outputs": []
    },
    {
      "cell_type": "markdown",
      "metadata": {
        "id": "zhSfPIisoqGG"
      },
      "source": [
        "# 2. write the normal equation using np.linalg (2 points)"
      ]
    },
    {
      "cell_type": "code",
      "metadata": {
        "id": "UHUOZVeoc-TJ"
      },
      "source": [
        "XT = X.transpose()\n",
        "XTX_inv = np.linalg.inv(np.dot(XT, X))\n",
        "w = np.dot(np.dot(XTX_inv, XT), y)"
      ],
      "execution_count": 13,
      "outputs": []
    },
    {
      "cell_type": "markdown",
      "metadata": {
        "id": "IW5BZRtno4km"
      },
      "source": [
        "# 3. print weights"
      ]
    },
    {
      "cell_type": "code",
      "metadata": {
        "id": "k7mWjN-neyws",
        "colab": {
          "base_uri": "https://localhost:8080/"
        },
        "outputId": "4f170cc7-03dc-45c0-9008-f2e9decf135a"
      },
      "source": [
        "print(w)"
      ],
      "execution_count": 14,
      "outputs": [
        {
          "output_type": "stream",
          "name": "stdout",
          "text": [
            "[[4.21509616]\n",
            " [2.77011339]]\n"
          ]
        }
      ]
    },
    {
      "cell_type": "markdown",
      "metadata": {
        "id": "i4jpLTanpEUD"
      },
      "source": [
        "# 4. make prediction on X_new (from the 1st part), but before predicting, you need to add x0=1 to each instance (1 point)"
      ]
    },
    {
      "cell_type": "code",
      "metadata": {
        "id": "xG6WksCRfSYd",
        "colab": {
          "base_uri": "https://localhost:8080/"
        },
        "outputId": "5f55ca49-d3ef-4476-df1b-826d9dfad49a"
      },
      "source": [
        "X_new = np.array([[1], [3]])\n",
        "X_new = np.hstack([np.ones((X_new.shape[0],1)), X_new])\n",
        "y_pred = X_new.dot(w)\n",
        "print(y_pred)"
      ],
      "execution_count": 52,
      "outputs": [
        {
          "output_type": "stream",
          "name": "stdout",
          "text": [
            "[[ 6.98520954]\n",
            " [12.52543632]]\n"
          ]
        }
      ]
    },
    {
      "cell_type": "markdown",
      "metadata": {
        "id": "ew6_JW7bpgiv"
      },
      "source": [
        "# 5. plot this model's prediction line (2 points)"
      ]
    },
    {
      "cell_type": "code",
      "metadata": {
        "id": "8pFuHrPQnq11",
        "colab": {
          "base_uri": "https://localhost:8080/",
          "height": 447
        },
        "outputId": "f104fc32-bd82-4090-9502-f19ac203f49d"
      },
      "source": [
        "x1 = np.array([np.min(X), np.max(X)])\n",
        "y_line = w[0] + w[1]*x1\n",
        "plt.plot(x1, y_line, c='r')\n",
        "plt.scatter(X, y)\n",
        "plt.show()"
      ],
      "execution_count": 54,
      "outputs": [
        {
          "output_type": "execute_result",
          "data": {
            "text/plain": [
              "<matplotlib.collections.PathCollection at 0x78b43c116d10>"
            ]
          },
          "metadata": {},
          "execution_count": 54
        },
        {
          "output_type": "display_data",
          "data": {
            "text/plain": [
              "<Figure size 640x480 with 1 Axes>"
            ],
            "image/png": "[encoded data removed]"
          },
          "metadata": {}
        }
      ]
    },
    {
      "cell_type": "markdown",
      "metadata": {
        "id": "1KgIP4Umh1oQ"
      },
      "source": [
        "#**3rd way**: Linear Regression using batch gradient descent (*Your turn!!!*)"
      ]
    },
    {
      "cell_type": "code",
      "metadata": {
        "id": "NSGLEbech7Z7"
      },
      "source": [
        "#Do not change this code cell\n",
        "eta = 0.2  # learning rate\n",
        "n_iterations = 1000\n",
        "weights_gd = np.random.randn(2,1)  # random initialization"
      ],
      "execution_count": 33,
      "outputs": []
    },
    {
      "cell_type": "markdown",
      "metadata": {
        "id": "Y7GUSC_Ap6LA"
      },
      "source": [
        "# 1. write gradient descent without using sklearn (3 points)"
      ]
    },
    {
      "cell_type": "code",
      "metadata": {
        "id": "HwM1lh3sA3S3"
      },
      "source": [
        "for iteration in range(n_iterations):\n",
        "    y_pred = np.dot(X, weights_gd)\n",
        "    weights_grad = np.dot(X.transpose(), (y_pred - y)) / len(y)\n",
        "\n",
        "    weights_gd = weights_gd - eta * weights_grad"
      ],
      "execution_count": 34,
      "outputs": []
    },
    {
      "cell_type": "markdown",
      "metadata": {
        "id": "Si4aXbZ4p_O8"
      },
      "source": [
        "# 2. print weights"
      ]
    },
    {
      "cell_type": "code",
      "metadata": {
        "id": "RyjEEwSiA65o",
        "colab": {
          "base_uri": "https://localhost:8080/"
        },
        "outputId": "cb213b4d-6a61-42dc-b692-21cdb44dbd67"
      },
      "source": [
        "print(weights_gd)"
      ],
      "execution_count": 35,
      "outputs": [
        {
          "output_type": "stream",
          "name": "stdout",
          "text": [
            "[[4.21509616]\n",
            " [2.77011339]]\n"
          ]
        }
      ]
    },
    {
      "cell_type": "markdown",
      "metadata": {
        "id": "nH4vR7vVqB_-"
      },
      "source": [
        "# 3. make prediction on X_new(from the 1st part), you also need to add x0=1 to each instance before making prediction (1 point)"
      ]
    },
    {
      "cell_type": "code",
      "metadata": {
        "id": "nOZgzfRzA8nB",
        "colab": {
          "base_uri": "https://localhost:8080/"
        },
        "outputId": "314adff9-51b5-4353-c915-427684bc2b7c"
      },
      "source": [
        "# Make predictions on new data\n",
        "X_new = np.array([[1], [2]])\n",
        "\n",
        "# Add x0=1\n",
        "X_new_with_bias = np.c_[np.ones(X_new.shape[0]), X_new]\n",
        "\n",
        "# Predict\n",
        "y_pred = X_new_with_bias.dot(weights_gd)\n",
        "print(y_pred)\n"
      ],
      "execution_count": 55,
      "outputs": [
        {
          "output_type": "stream",
          "name": "stdout",
          "text": [
            "[[6.98520954]\n",
            " [9.75532293]]\n"
          ]
        }
      ]
    }
  ]
}